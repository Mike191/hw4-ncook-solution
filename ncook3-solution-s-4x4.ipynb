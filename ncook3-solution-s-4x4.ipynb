{
 "cells": [
  {
   "cell_type": "code",
   "execution_count": 1,
   "metadata": {},
   "outputs": [],
   "source": [
    "from gym import make\n",
    "import gym.envs.toy_text # I guess `toy_text` is a separate package?\n",
    "from gym.envs.registration import register, registry"
   ]
  },
  {
   "cell_type": "code",
   "execution_count": 2,
   "metadata": {},
   "outputs": [],
   "source": [
    "import my_env # import my python file that contains CustomizedFrozenLake class that inherits from FrozenLake"
   ]
  },
  {
   "cell_type": "code",
   "execution_count": 5,
   "metadata": {},
   "outputs": [],
   "source": [
    "all_envs = registry.all()\n",
    "env_ids = [env_spec.id for env_spec in all_envs]\n",
    "\n",
    "id = 'Stochastic-4x4-FrozenLake-v0'\n",
    "\n",
    "if id not in env_ids:\n",
    "    register(\n",
    "        id=id, # name given to this new environment\n",
    "        entry_point='gym.envs.toy_text.frozen_lake:FrozenLakeEnv', # env entry point\n",
    "        kwargs={'map_name': '4x4', 'is_slippery': True} # argument passed to the env\n",
    "    )\n",
    "\n",
    "env_s_4x4 = make('Stochastic-4x4-FrozenLake-v0')\n",
    "\n",
    "# env_s_4x4.render()\n",
    "# env_s_4x4.P"
   ]
  },
  {
   "cell_type": "code",
   "execution_count": null,
   "metadata": {},
   "outputs": [],
   "source": []
  },
  {
   "cell_type": "code",
   "execution_count": null,
   "metadata": {},
   "outputs": [],
   "source": []
  }
 ],
 "metadata": {
  "kernelspec": {
   "display_name": "Python 3",
   "language": "python",
   "name": "python3"
  },
  "language_info": {
   "codemirror_mode": {
    "name": "ipython",
    "version": 3
   },
   "file_extension": ".py",
   "mimetype": "text/x-python",
   "name": "python",
   "nbconvert_exporter": "python",
   "pygments_lexer": "ipython3",
   "version": "3.7.0"
  }
 },
 "nbformat": 4,
 "nbformat_minor": 2
}
