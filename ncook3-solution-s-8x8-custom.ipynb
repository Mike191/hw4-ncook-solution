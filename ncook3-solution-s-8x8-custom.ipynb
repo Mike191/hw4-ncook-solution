{
 "cells": [
  {
   "cell_type": "code",
   "execution_count": 1,
   "metadata": {},
   "outputs": [],
   "source": [
    "from gym import make\n",
    "import gym.envs.toy_text # I guess `toy_text` is a separate package?\n",
    "from gym.envs.registration import register, registry"
   ]
  },
  {
   "cell_type": "code",
   "execution_count": 2,
   "metadata": {},
   "outputs": [],
   "source": [
    "import my_env # import my python file that contains CustomizedFrozenLake class that inherits from FrozenLake"
   ]
  },
  {
   "cell_type": "code",
   "execution_count": 7,
   "metadata": {},
   "outputs": [
    {
     "name": "stdout",
     "output_type": "stream",
     "text": [
      "\n",
      "\u001b[41mS\u001b[0mFFFFFFF\n",
      "FFFFFFFF\n",
      "FFFHFFFF\n",
      "FFFFFHFF\n",
      "FFFHFFFF\n",
      "FHHFFFHF\n",
      "FHFFHFHF\n",
      "FFFHFFFG\n"
     ]
    },
    {
     "data": {
      "text/plain": [
       "[(0.3333333333333333, 61, 0, False),\n",
       " (0.3333333333333333, 62, 0, False),\n",
       " (0.3333333333333333, 63, 10, True)]"
      ]
     },
     "execution_count": 7,
     "metadata": {},
     "output_type": "execute_result"
    }
   ],
   "source": [
    "all_envs = registry.all()\n",
    "env_ids = [env_spec.id for env_spec in all_envs]\n",
    "\n",
    "id='Stochastic-8x8-CustomizedFrozenLake-v0'\n",
    "\n",
    "if id not in env_ids:\n",
    "\n",
    "    register(\n",
    "        id=id,\n",
    "        entry_point='my_env:CustomizedFrozenLake',\n",
    "        kwargs={'map_name': '8x8', 'is_slippery': True})\n",
    "    \n",
    "env_sc_8x8 = make(id)\n",
    "\n",
    "env_sc_8x8.render()\n",
    "env_sc_8x8.P[62][1]    "
   ]
  },
  {
   "cell_type": "code",
   "execution_count": null,
   "metadata": {},
   "outputs": [],
   "source": []
  },
  {
   "cell_type": "code",
   "execution_count": null,
   "metadata": {},
   "outputs": [],
   "source": []
  }
 ],
 "metadata": {
  "kernelspec": {
   "display_name": "Python 3",
   "language": "python",
   "name": "python3"
  },
  "language_info": {
   "codemirror_mode": {
    "name": "ipython",
    "version": 3
   },
   "file_extension": ".py",
   "mimetype": "text/x-python",
   "name": "python",
   "nbconvert_exporter": "python",
   "pygments_lexer": "ipython3",
   "version": "3.7.0"
  }
 },
 "nbformat": 4,
 "nbformat_minor": 2
}
